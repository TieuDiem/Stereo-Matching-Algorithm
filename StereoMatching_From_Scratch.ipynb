{
  "cells": [
    {
      "cell_type": "markdown",
      "metadata": {
        "id": "view-in-github",
        "colab_type": "text"
      },
      "source": [
        "<a href=\"https://colab.research.google.com/github/TieuDiem/Stereo-Matching-Algorithm/blob/main/StereoMatching_From_Scratch.ipynb\" target=\"_parent\"><img src=\"https://colab.research.google.com/assets/colab-badge.svg\" alt=\"Open In Colab\"/></a>"
      ]
    },
    {
      "cell_type": "markdown",
      "source": [
        "# Declared distance method and lib"
      ],
      "metadata": {
        "id": "1Wo6QbdoTpHk"
      }
    },
    {
      "cell_type": "code",
      "source": [
        "import cv2\n",
        "import numpy as np\n",
        "from google.colab import drive\n",
        "from enum import Enum\n",
        "import os\n",
        "from google.colab.patches import cv2_imshow\n",
        "import math\n",
        "from numpy.linalg import norm\n",
        "import time"
      ],
      "metadata": {
        "id": "ndMyyZKrT0d0"
      },
      "execution_count": null,
      "outputs": []
    },
    {
      "cell_type": "code",
      "source": [
        "def process_time(func):\n",
        "    def wrap_func(*args, **kwargs):\n",
        "        t1 = time.time()\n",
        "        result = func(*args, **kwargs)\n",
        "        t2 = time.time()\n",
        "        print(f'Function {func.__name__!r} executed in {(t2-t1)*1000:.4f}ms')\n",
        "        return result\n",
        "    return wrap_func"
      ],
      "metadata": {
        "id": "unTw8ZTsAOwK"
      },
      "execution_count": null,
      "outputs": []
    },
    {
      "cell_type": "code",
      "source": [
        "def distance_l1(x,y):\n",
        "  return abs(x-y)\n",
        "\n",
        "def distance_l2(x,y):\n",
        "  return (x-y)**2\n",
        "\n",
        "def distance_cosine_similarity(x,y):\n",
        "  return np.dot(x,y)/ (norm(x)*norm(y))\n",
        "\n",
        "def distance_correlation_cofficient(x,y):\n",
        "\n",
        "  covariance=np.dot(x- [np.mean(x)] * len(x),y -[np.mean(y)] * len(y)) / len(x)\n",
        "  correl = covariance / ( np.sqrt(np.var(x)) *  np.sqrt(np.var(y)))\n",
        "  return correl"
      ],
      "metadata": {
        "id": "EhMZg_PTT1yd"
      },
      "execution_count": null,
      "outputs": []
    },
    {
      "cell_type": "code",
      "source": [
        "distance_cosine_similarity(np.array([1,2,3,4]),np.array([1,2,3,4]))"
      ],
      "metadata": {
        "id": "z8_Cvmjbim7g"
      },
      "execution_count": null,
      "outputs": []
    },
    {
      "cell_type": "code",
      "source": [
        "distance_correlation_cofficient(np.array([1,2,3,4]),np.array([2,4,6,8]))"
      ],
      "metadata": {
        "id": "EywW_8jnk990"
      },
      "execution_count": null,
      "outputs": []
    },
    {
      "cell_type": "markdown",
      "metadata": {
        "id": "r4lXmGuzo6wl"
      },
      "source": [
        "#PROBLEM 1: pixel_wise_matching\n"
      ]
    },
    {
      "cell_type": "code",
      "execution_count": null,
      "metadata": {
        "id": "QOEfcWPlsHni"
      },
      "outputs": [],
      "source": [
        "drive.mount('/content/drive')"
      ]
    },
    {
      "cell_type": "code",
      "execution_count": null,
      "metadata": {
        "id": "dCC-Qth6sJoy"
      },
      "outputs": [],
      "source": [
        "path_save = '/content/drive/MyDrive/EX_AIO_2022/DataExamAIO2022/Stereo_Matching/Aloe'"
      ]
    },
    {
      "cell_type": "code",
      "execution_count": null,
      "metadata": {
        "id": "SVIIER4FpC6V"
      },
      "outputs": [],
      "source": [
        "def pixel_wise_matching(image_left:np.ndarray,\n",
        "                        image_right:np.ndarray,\n",
        "                        disparity_range:int,\n",
        "                        compute_type,save_image =False):\n",
        "  \n",
        "  #---> astype float32 to compute\n",
        "  image_left =image_left.astype(np.float32)\n",
        "  image_right =image_right.astype(np.float32)\n",
        "\n",
        "  #---> Get size and generate desth_map , scale disparity range\n",
        "  height = image_left.shape[0]\n",
        "  width =image_left.shape[1]\n",
        "  \n",
        "  depth_map =np.zeros((height,width),dtype=np.uint8)\n",
        "  scale = 255 / disparity_range\n",
        "\n",
        "  #---> Select mode of compute\n",
        "  if  compute_type==\"l1\":\n",
        "    distance = distance_l1\n",
        "    print(f'Compute disparity map using pixel - wise matching with L1 ...')\n",
        "  elif compute_type==\"l2\":\n",
        "    print(f'Compute disparity map using pixel - wise matching with L2 ...')\n",
        "    distance  = distance_l2\n",
        "\n",
        "  #---> Calculate depth map \n",
        "  for y in range(1,height):\n",
        "    for x in range(1,width):\n",
        "        disparity = 0\n",
        "        cost_min  = abs(image_left[y, x] - image_right[y, x])\n",
        "        for d in range(1,disparity_range):\n",
        "            if x-d <0 :\n",
        "              cost =255 \n",
        "            else : \n",
        "              cost =distance(image_left[y,x],image_right[y,x-d])\n",
        "            if cost < cost_min:\n",
        "                cost_min  = cost\n",
        "                disparity = d\n",
        "            continue\n",
        "        depth_map[y, x] = disparity*scale  \n",
        "        \n",
        "    #---> Save image or not\n",
        "  if save_image==True:\n",
        "    cv2.imwrite(os.path.join(path_save,\"image_pixel_matching.png\") , depth_map)\n",
        "    print(f'Saving result ...')\n",
        "  print(f'Done')    \n",
        "  return depth_map"
      ]
    },
    {
      "cell_type": "code",
      "execution_count": null,
      "metadata": {
        "id": "NtfyE5CgsSod"
      },
      "outputs": [],
      "source": [
        "image_left =cv2.imread(os.path.join(path_save,\"Aloe_left_1.png\"),0)\n",
        "image_right=cv2.imread(os.path.join(path_save,\"Aloe_right_1.png\"),0)\n",
        "\n",
        "cv2_imshow(np.hstack((image_left,image_right)))"
      ]
    },
    {
      "cell_type": "code",
      "execution_count": null,
      "metadata": {
        "id": "Tq-IWc27s5kK"
      },
      "outputs": [],
      "source": [
        "desparity_image_L1 = pixel_wise_matching(image_left,image_right,16,compute_type=\"l1\",save_image=True)\n",
        "desparity_image_L2 = pixel_wise_matching(image_left,image_right,16,compute_type=\"l2\",save_image=True)"
      ]
    },
    {
      "cell_type": "code",
      "execution_count": null,
      "metadata": {
        "id": "BrFlZlhHH87v"
      },
      "outputs": [],
      "source": [
        "cv2_imshow(np.hstack((desparity_image_L1,desparity_image_L2)))\n",
        "desparity_image_L1_color = cv2.applyColorMap(desparity_image_L1,cv2.COLORMAP_JET)\n",
        "\n",
        "result = desparity_image_L1-desparity_image_L2\n",
        "cv2_imshow(desparity_image_L1_color)"
      ]
    },
    {
      "cell_type": "markdown",
      "metadata": {
        "id": "GceEhJcK6_Ji"
      },
      "source": [
        "#PROBLEM 2: window-based-matching"
      ]
    },
    {
      "cell_type": "code",
      "execution_count": null,
      "metadata": {
        "id": "cQ4iRLr0d-Vf"
      },
      "outputs": [],
      "source": [
        "def window_base_matching(image_left:np.ndarray,\n",
        "                         image_right:np.ndarray,\n",
        "                         disparity_range,\n",
        "                         compute_type,\n",
        "                         kernel_size,\n",
        "                         save_image =True):\n",
        "\n",
        "  image_left  = image_left.astype(np.float32)\n",
        "  image_right = image_right.astype(np.float32)\n",
        "\n",
        "  height,width= image_left.shape[:2]\n",
        " \n",
        "  depth_map = np.zeros((height,width),dtype =np.uint8)\n",
        "\n",
        "  scale =255/ disparity_range\n",
        "\n",
        "  if compute_type == \"l1\":\n",
        "    max_value =255\n",
        "    distance = distance_l1\n",
        "    print(f'Compute disparity map using window-base-matching with L1 ...')\n",
        "    \n",
        "  elif compute_type == \"l2\":\n",
        "    max_value =255**2\n",
        "    distance =distance_l2\n",
        "    print(f'Compute disparity map using window-base-matching with L2 ...')\n",
        "\n",
        "  kernel_half = int((kernel_size-1)/2)\n",
        "\n",
        "  for h in range(kernel_half,   height-kernel_half):\n",
        "    for w in range(kernel_half, width-kernel_half): \n",
        "      disparity =0\n",
        "      cost_min =  max_value\n",
        "      for d in range(disparity_range):\n",
        "        sum_cost =0\n",
        "        for u in range(-kernel_half,kernel_half+1):\n",
        "          for v in range(-kernel_half,kernel_half+1):\n",
        "            if (w+v-d) >= 0 :\n",
        "              cost = distance(int(image_left[h + u,w + v]),int(image_right[h + u,w+v-d]))\n",
        "            else :\n",
        "              cost = max_value\n",
        "            sum_cost += cost                     \n",
        "        if sum_cost < cost_min:\n",
        "          cost_min = sum_cost\n",
        "          disparity = d\n",
        "        depth_map[h,w] = disparity*scale    \n",
        "  if save_image==True:\n",
        "    cv2.imwrite(os.path.join(path_save,\"image_window_base_matching.png\") , depth_map)\n",
        "    print(f'Saving result ...')\n",
        "  print(f'Done')    \n",
        "\n",
        "  return depth_map"
      ]
    },
    {
      "cell_type": "code",
      "source": [
        "desparity_image_L1 = window_base_matching(image_left,image_right,\n",
        "                                          16,\n",
        "                                          compute_type=\"l1\", \n",
        "                                          kernel_size=5,\n",
        "                                          save_image=True)"
      ],
      "metadata": {
        "id": "hWUJf_3t_iSQ"
      },
      "execution_count": null,
      "outputs": []
    },
    {
      "cell_type": "code",
      "source": [
        "desparity_image_L2 = window_base_matching(image_left,image_right,\n",
        "                                          16,\n",
        "                                          compute_type=\"l2\", \n",
        "                                          kernel_size=5,\n",
        "                                          save_image=True)"
      ],
      "metadata": {
        "id": "VT6Ns5RWQ33V"
      },
      "execution_count": null,
      "outputs": []
    },
    {
      "cell_type": "code",
      "source": [
        "cv2_imshow(np.hstack((desparity_image_L1,desparity_image_L2)))"
      ],
      "metadata": {
        "id": "3TuiDSaplxD5"
      },
      "execution_count": null,
      "outputs": []
    },
    {
      "cell_type": "markdown",
      "source": [
        "# PROBLEM 3: Prove that a linear change is a noise"
      ],
      "metadata": {
        "id": "TomoGHSXfQL7"
      }
    },
    {
      "cell_type": "markdown",
      "source": [
        "#PROBLEM 4,5: Stereo Matching with Cosine Simalarity, Correlation Cofficient"
      ],
      "metadata": {
        "id": "ynd4pQFVfSqz"
      }
    },
    {
      "cell_type": "code",
      "source": [
        "def window_base_matching_v2(image_left,\n",
        "                            image_right,\n",
        "                            disparity_range,\n",
        "                            compute_type,\n",
        "                            kernel_size,\n",
        "                            save_result=False):\n",
        "  \n",
        "  image_left =image_left.astype(np.float32)\n",
        "  image_left =image_left.astype(np.float32)\n",
        "\n",
        "  height =image_left.shape[0]\n",
        "  width =image_left.shape[1]\n",
        "\n",
        "  depth_map =np.zeros((height,width),dtype=np.uint8)\n",
        "  scale = 255 / disparity_range\n",
        "\n",
        "  kernel_half = int((kernel_size-1)/2)\n",
        "\n",
        "  if compute_type ==\"cosine_simailarity\":\n",
        "    distance = distance_cosine_similarity\n",
        "    name_image = \"image_window_base_matching_cosine_similarity.png\"\n",
        "    print(f'Compute disparity map using window-base-matching with cosine similarity ...')\n",
        "  elif compute_type==\"correlation_cofficient\":\n",
        "    distance = distance_correlation_cofficient\n",
        "    name_image = \"image_window_base_matching_correlation_cofficient.png\"\n",
        "    print(f'Compute disparity map using window-base-matching with correlation cofficient ...')\n",
        "\n",
        "  for h in range(kernel_half,height - kernel_half):\n",
        "    for w in range(kernel_half,width -kernel_half):\n",
        "      disparity =0\n",
        "      cost_optimal = -1\n",
        "      for j in range(disparity_range):\n",
        "        d = w -j\n",
        "        cost =-1\n",
        "        if d-kernel_half >= 0:\n",
        "          w_left = image_left [h-kernel_half:h+kernel_half+1 ,w-kernel_half:w+kernel_half+1  ]\n",
        "          w_right = image_right [h-kernel_half: (h+kernel_half)+1 ,d-kernel_half: d+kernel_half+1  ]\n",
        "\n",
        "          w_left=w_left.flatten()\n",
        "          w_right=w_right.flatten()\n",
        "          \n",
        "          cost =distance(w_left,w_right)\n",
        "          \n",
        "        if cost > cost_optimal:\n",
        "          cost_optimal=cost\n",
        "          disparity =j\n",
        "      depth_map[h,w] = disparity*scale\n",
        "  if save_result==True:\n",
        "    cv2.imwrite(os.path.join(path_save,name_image) , depth_map)\n",
        "    print(f'Saving result ...')\n",
        "  print(f'Done')    \n",
        "\n",
        "  return depth_map"
      ],
      "metadata": {
        "id": "6SfNaV2dfUAl"
      },
      "execution_count": null,
      "outputs": []
    },
    {
      "cell_type": "code",
      "source": [
        "image_left_new =cv2.imread('/content/drive/MyDrive/EX_AIO_2022/DataExamAIO2022/Stereo_Matching/Aloe/Aloe_left_1.png',0)\n",
        "image_right_new =cv2.imread('/content/drive/MyDrive/EX_AIO_2022/DataExamAIO2022/Stereo_Matching/Aloe/Aloe_right_2.png',0)"
      ],
      "metadata": {
        "id": "tMyHB5ZONzeM"
      },
      "execution_count": null,
      "outputs": []
    },
    {
      "cell_type": "code",
      "source": [
        "cv2_imshow(np.hstack((image_left_new,image_right_new)))"
      ],
      "metadata": {
        "id": "SLOtLeH1YLe7"
      },
      "execution_count": null,
      "outputs": []
    },
    {
      "cell_type": "code",
      "source": [
        "cosine_similarity = window_base_matching_v2(image_left_new, image_right_new,\n",
        "                                 64,\n",
        "                                 \"cosine_simailarity\",\n",
        "                                  3,True )"
      ],
      "metadata": {
        "id": "lUgSsWWaWg7Z"
      },
      "execution_count": null,
      "outputs": []
    },
    {
      "cell_type": "code",
      "source": [
        "correlation_cofficient = window_base_matching_v2(image_left_new,image_right_new,\n",
        "                                 64,\n",
        "                                 \"correlation_cofficient\",\n",
        "                                  3,True )"
      ],
      "metadata": {
        "id": "okSe4C0HXrO1"
      },
      "execution_count": null,
      "outputs": []
    },
    {
      "cell_type": "code",
      "source": [
        "cv2_imshow(np.hstack((cosine_similarity,correlation_cofficient)))"
      ],
      "metadata": {
        "id": "IqA5nxvVW8Wp"
      },
      "execution_count": null,
      "outputs": []
    }
  ],
  "metadata": {
    "colab": {
      "provenance": [],
      "private_outputs": true,
      "toc_visible": true,
      "authorship_tag": "ABX9TyMMakXxPXBm0nk3NzgI50s3",
      "include_colab_link": true
    },
    "kernelspec": {
      "display_name": "Python 3",
      "name": "python3"
    },
    "language_info": {
      "name": "python"
    },
    "accelerator": "GPU"
  },
  "nbformat": 4,
  "nbformat_minor": 0
}